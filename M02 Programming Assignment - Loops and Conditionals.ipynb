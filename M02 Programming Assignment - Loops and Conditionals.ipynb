{
 "cells": [
  {
   "cell_type": "code",
   "execution_count": 10,
   "id": "e26b0e7b",
   "metadata": {},
   "outputs": [
    {
     "name": "stdout",
     "output_type": "stream",
     "text": [
      "too high\n"
     ]
    }
   ],
   "source": [
    "# Creating Secret Number\n",
    "secret = 4;\n",
    "\n",
    "# Creating Guess Number\n",
    "guess = 6;\n",
    "\n",
    "if guess < secret:\n",
    "    print('too low');\n",
    "elif guess == secret:\n",
    "    print('just right');\n",
    "else:\n",
    "    print('too high');"
   ]
  },
  {
   "cell_type": "code",
   "execution_count": 13,
   "id": "2a194ee6",
   "metadata": {},
   "outputs": [
    {
     "name": "stdout",
     "output_type": "stream",
     "text": [
      "pea\n"
     ]
    }
   ],
   "source": [
    "# Assigning True \n",
    "small = True;\n",
    "green = True;\n",
    "\n",
    "if small == True and green == False:\n",
    "    print('cherry')\n",
    "elif small == True and green == True:\n",
    "    print('pea');\n",
    "elif small == False and green == True:\n",
    "    print('watermelon');\n",
    "elif small == False and green == False:\n",
    "    print('pumpkin');\n",
    "else:\n",
    "    print('could not identify fruit.')"
   ]
  },
  {
   "cell_type": "code",
   "execution_count": 17,
   "id": "9f2617e3",
   "metadata": {},
   "outputs": [
    {
     "name": "stdout",
     "output_type": "stream",
     "text": [
      "3\n",
      "2\n",
      "1\n",
      "0\n"
     ]
    }
   ],
   "source": [
    "# Loop assignment\n",
    "list = [3,2,1,0]\n",
    "for n in list:\n",
    "    print(n)"
   ]
  },
  {
   "cell_type": "code",
   "execution_count": 32,
   "id": "f1743f49",
   "metadata": {},
   "outputs": [
    {
     "name": "stdout",
     "output_type": "stream",
     "text": [
      "too low\n",
      "too low\n",
      "too low\n",
      "too low\n",
      "too low\n",
      "too low\n",
      "found it!\n"
     ]
    }
   ],
   "source": [
    "# 6.2\n",
    "guess_me = 7;\n",
    "number = 1;\n",
    "\n",
    "while True:\n",
    "    if guess_me > number:\n",
    "        print('too low')\n",
    "        number += 1\n",
    "    if guess_me == number:\n",
    "        print('found it!')\n",
    "        break\n",
    "    if guess_me < number:\n",
    "        print('oops')\n",
    "        break"
   ]
  },
  {
   "cell_type": "code",
   "execution_count": 40,
   "id": "bda40a15",
   "metadata": {},
   "outputs": [
    {
     "name": "stdout",
     "output_type": "stream",
     "text": [
      "too low\n",
      "too low\n",
      "too low\n",
      "too low\n",
      "too low\n",
      "found it!\n"
     ]
    }
   ],
   "source": [
    "# 6.3\n",
    "guess_me = 5;\n",
    "\n",
    "for number in range(10):\n",
    "    if number < guess_me:\n",
    "        print('too low');\n",
    "    elif number == guess_me:\n",
    "        print('found it!');\n",
    "        break;\n",
    "    elif number > guess_me:\n",
    "        print('oops');\n",
    "        break\n",
    "    else:\n",
    "        print('something went wrong');"
   ]
  },
  {
   "cell_type": "code",
   "execution_count": null,
   "id": "39380caf",
   "metadata": {},
   "outputs": [],
   "source": []
  }
 ],
 "metadata": {
  "kernelspec": {
   "display_name": "Python 3 (ipykernel)",
   "language": "python",
   "name": "python3"
  },
  "language_info": {
   "codemirror_mode": {
    "name": "ipython",
    "version": 3
   },
   "file_extension": ".py",
   "mimetype": "text/x-python",
   "name": "python",
   "nbconvert_exporter": "python",
   "pygments_lexer": "ipython3",
   "version": "3.9.12"
  }
 },
 "nbformat": 4,
 "nbformat_minor": 5
}
