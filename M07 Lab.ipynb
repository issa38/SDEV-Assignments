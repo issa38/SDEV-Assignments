{
 "cells": [
  {
   "cell_type": "code",
   "execution_count": null,
   "id": "6b26dc8e",
   "metadata": {},
   "outputs": [],
   "source": [
    "# Have to install pandas first with: pip install pandas and download the CSV file\n",
    "\n",
    "import pandas as pd\n",
    "sal = pd.read_csv('Salaries.csv')\n",
    "\n",
    "sal.head()"
   ]
  },
  {
   "cell_type": "code",
   "execution_count": null,
   "id": "e0df26bc",
   "metadata": {},
   "outputs": [],
   "source": [
    "# What is the average BasePay ?\n",
    "sal['BasePay'].mean()\n",
    "\n",
    "# What is the highest amount of OvertimePay in the dataset ?\n",
    "sal['OvertimePay'].max()\n",
    "\n",
    "# What is the job title of JOSEPH DRISCOLL ?\n",
    "sal[sal['EmployeeName']=='JOSEPH DRISCOLL']['JobTitle']\n",
    "\n",
    "# How much does JOSEPH DRISCOLL make (including benefits)?\n",
    "sal[sal['EmployeeName']=='JOSEPH DRISCOLL']['TotalPayBenefits']\n",
    "\n",
    "# What is the name of highest paid person (including benefits)?\n",
    "sal[sal['TotalPayBenefits']== sal['TotalPayBenefits'].max()]\n",
    "\n",
    "# What is the name of lowest paid person (including benefits)?\n",
    "sal[sal['TotalPayBenefits']== sal['TotalPayBenefits'].min()]\n",
    "    # Her pay comes back as negative which seems wrong but it says the same in the solutions paper.\n",
    "\n",
    "# What was the average (mean) BasePay of all employees per year? (2011-2014) ?\n",
    "sal.groupby('Year').mean()['BasePay']  \n",
    "\n",
    "# How many unique job titles are there?\n",
    "sal['JobTitle'].nunique()\n",
    "\n",
    "# What are the top 5 most common jobs?\n",
    "sal['JobTitle'].value_counts().head(5)\n",
    "\n",
    "# How many Job Titles were represented by only one person in 2013? (e.g. Job Titles with only one occurence in 2013?)\n",
    "sum(sal[sal['Year']==2013]['JobTitle'].value_counts() == 1)\n",
    "    #I got this one from the solutions page, I just could not get a count of the titles to execute correctly\n"
   ]
  },
  {
   "cell_type": "code",
   "execution_count": null,
   "id": "a009f1fa",
   "metadata": {},
   "outputs": [],
   "source": [
    "# How many people have the word Chief in their job title? (This is pretty tricky)\n",
    "def chief_string(title):\n",
    "    if 'chief' in title.lower():\n",
    "        return True\n",
    "    else:\n",
    "        return False\n",
    "\n",
    "# This finds the actual title string for chiefs\n",
    "sal['JobTitle'].iloc[0]\n",
    "\n",
    "#Pulled from the above iloc \n",
    "chief_string('GENERAL MANAGER-METROPOLITAN TRANSIT AUTHORITY')\n",
    "\n",
    "sum(sal['JobTitle'].apply(lambda x: chief_string(x)))"
   ]
  }
 ],
 "metadata": {
  "kernelspec": {
   "display_name": "Python 3 (ipykernel)",
   "language": "python",
   "name": "python3"
  },
  "language_info": {
   "codemirror_mode": {
    "name": "ipython",
    "version": 3
   },
   "file_extension": ".py",
   "mimetype": "text/x-python",
   "name": "python",
   "nbconvert_exporter": "python",
   "pygments_lexer": "ipython3",
   "version": "3.9.12"
  }
 },
 "nbformat": 4,
 "nbformat_minor": 5
}
