{
 "cells": [
  {
   "cell_type": "code",
   "execution_count": 3,
   "id": "e3e90ffd",
   "metadata": {},
   "outputs": [
    {
     "name": "stdout",
     "output_type": "stream",
     "text": [
      "It's Tuesday, July 12, 2022, local time 12:00:00AM\n"
     ]
    }
   ],
   "source": [
    "from datetime import date\n",
    "fmt = \"It's %A, %B %d, %Y, local time %I:%M:%S%p\"\n",
    "\n",
    "now = date.today()\n",
    "\n",
    "print(now.strftime(fmt))"
   ]
  },
  {
   "cell_type": "code",
   "execution_count": null,
   "id": "435d51d6",
   "metadata": {},
   "outputs": [],
   "source": []
  }
 ],
 "metadata": {
  "kernelspec": {
   "display_name": "Python 3 (ipykernel)",
   "language": "python",
   "name": "python3"
  },
  "language_info": {
   "codemirror_mode": {
    "name": "ipython",
    "version": 3
   },
   "file_extension": ".py",
   "mimetype": "text/x-python",
   "name": "python",
   "nbconvert_exporter": "python",
   "pygments_lexer": "ipython3",
   "version": "3.9.12"
  }
 },
 "nbformat": 4,
 "nbformat_minor": 5
}
