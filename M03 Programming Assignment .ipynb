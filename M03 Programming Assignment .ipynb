{
 "cells": [
  {
   "cell_type": "code",
   "execution_count": 22,
   "id": "6249045d",
   "metadata": {},
   "outputs": [
    {
     "name": "stdout",
     "output_type": "stream",
     "text": [
      "['mozzarella', 'Cinderella', 'salmonella']\n",
      "['MOZZARELLA', 'Cinderella', 'salmonella']\n",
      "['MOZZARELLA', 'Cinderella']\n"
     ]
    }
   ],
   "source": [
    "# Chapter 7 Things to Do\n",
    "things = [\n",
    "    'mozzarella',\n",
    "    'cinderella',\n",
    "    'salmonella',\n",
    "]\n",
    "\n",
    "things[1] = 'Cinderella';\n",
    "print(things)\n",
    "\n",
    "things[0] = 'MOZZARELLA'\n",
    "print(things)\n",
    "\n",
    "things.pop(2)\n",
    "print(things)"
   ]
  },
  {
   "cell_type": "code",
   "execution_count": 64,
   "id": "dd0997cc",
   "metadata": {},
   "outputs": [
    {
     "name": "stdout",
     "output_type": "stream",
     "text": [
      "['Harry', 'Ron', 'Hermoine']\n",
      "9\n"
     ]
    }
   ],
   "source": [
    "# Chapter 9 Things to Do\n",
    "\n",
    "def good():\n",
    "    names = ['Harry', 'Ron', 'Hermoine'];\n",
    "    print(names)\n",
    "good();\n",
    "\n",
    "def get_odds(first = 0, last = 10, step = 1):\n",
    "    number = first\n",
    "    while number < last:\n",
    "        yield number\n",
    "        number += step\n",
    "    ranges = get_odds(1,10)\n",
    "    nums = []\n",
    "    for odd in ranges:\n",
    "        if odd % 2 == 1:\n",
    "            nums.append(odd)\n",
    "third = nums.pop(2)\n",
    "\n",
    "print(third)\n",
    "            "
   ]
  },
  {
   "cell_type": "code",
   "execution_count": null,
   "id": "101dc4df",
   "metadata": {},
   "outputs": [],
   "source": []
  }
 ],
 "metadata": {
  "kernelspec": {
   "display_name": "Python 3 (ipykernel)",
   "language": "python",
   "name": "python3"
  },
  "language_info": {
   "codemirror_mode": {
    "name": "ipython",
    "version": 3
   },
   "file_extension": ".py",
   "mimetype": "text/x-python",
   "name": "python",
   "nbconvert_exporter": "python",
   "pygments_lexer": "ipython3",
   "version": "3.9.12"
  }
 },
 "nbformat": 4,
 "nbformat_minor": 5
}
