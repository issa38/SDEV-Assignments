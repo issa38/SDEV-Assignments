{
 "cells": [
  {
   "cell_type": "code",
   "execution_count": 4,
   "id": "e77fa7e5",
   "metadata": {},
   "outputs": [
    {
     "name": "stdout",
     "output_type": "stream",
     "text": [
      "There are 3600  seconds per hour.\n",
      "There are 86400 seconds per day.\n",
      "Floating Point:  24.0\n",
      "Interger:  24\n"
     ]
    }
   ],
   "source": [
    "# 60s in a min. 60 min in an hour.\n",
    "secs = 60;\n",
    "mins = 60;\n",
    "seconds_per_hour = secs * mins;\n",
    "\n",
    "print('There are', seconds_per_hour, ' seconds per hour.')\n",
    "\n",
    "# Seconds in a day.\n",
    "seconds_per_day = seconds_per_hour * 24\n",
    "\n",
    "print('There are', seconds_per_day, 'seconds per day.')\n",
    "\n",
    "# Dividing seconds of the day by hour.\n",
    "fp = seconds_per_day / seconds_per_hour\n",
    "print('Floating Point: ', fp)\n",
    "\n",
    "interger = seconds_per_day // seconds_per_hour\n",
    "print('Interger: ', interger)\n"
   ]
  },
  {
   "cell_type": "markdown",
   "id": "0b24752f",
   "metadata": {},
   "source": [
    "Seems like everything is working properly."
   ]
  },
  {
   "cell_type": "code",
   "execution_count": null,
   "id": "1c87923f",
   "metadata": {},
   "outputs": [],
   "source": []
  }
 ],
 "metadata": {
  "kernelspec": {
   "display_name": "Python 3 (ipykernel)",
   "language": "python",
   "name": "python3"
  },
  "language_info": {
   "codemirror_mode": {
    "name": "ipython",
    "version": 3
   },
   "file_extension": ".py",
   "mimetype": "text/x-python",
   "name": "python",
   "nbconvert_exporter": "python",
   "pygments_lexer": "ipython3",
   "version": "3.9.12"
  }
 },
 "nbformat": 4,
 "nbformat_minor": 5
}
